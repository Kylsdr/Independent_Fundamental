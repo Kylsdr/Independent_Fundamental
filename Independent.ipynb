{
 "cells": [
  {
   "cell_type": "code",
   "execution_count": 1,
   "metadata": {},
   "outputs": [],
   "source": [
    "import retro"
   ]
  },
  {
   "cell_type": "markdown",
   "metadata": {},
   "source": [
    "# Setup Environment\n",
    "\n",
    "Preprocess - grayscale, frame delta, resize the frame so we have less pixels\n",
    "Filter the actions - parameter \n",
    "reward function "
   ]
  },
  {
   "cell_type": "code",
   "execution_count": 2,
   "metadata": {},
   "outputs": [],
   "source": [
    "# Import environment base class for the wrapper\n",
    "from gym import Env\n",
    "# import the space shapes for the environment\n",
    "from gym.spaces import MultiBinary, Box\n",
    "# import numpy for calculations of frame delta\n",
    "import numpy as np \n",
    "#import open cv for grayscaling \n",
    "import cv2\n",
    "# import matplotlib - image plotting \n",
    "from matplotlib import pyplot as plt\n",
    "import time"
   ]
  },
  {
   "cell_type": "code",
   "execution_count": 3,
   "metadata": {},
   "outputs": [],
   "source": [
    "# create custom environment \n",
    "class StreetFighter(Env):\n",
    "    def __init__(self):\n",
    "        super().__init__()\n",
    "        self.observation_space = Box(low=0, high=255, shape=(84,84,1), dtype=np.uint8)\n",
    "        self.action_space = MultiBinary(12)\n",
    "        # start game retro.Actions.FILTERED filters it to only valid button combinations for input\n",
    "        self.game = retro.make(game ='StreetFighterIISpecialChampionEdition-Genesis', \n",
    "                               use_restricted_actions = retro.Actions.FILTERED)\n",
    "    \n",
    "    def step(self, action):\n",
    "        obs, reward, done, info = self.game.step(action)\n",
    "        obs = self.preprocess(obs)\n",
    "        # frame delta \n",
    "        frame_delta = obs - self.previous_frame\n",
    "        self.previous_frame = obs \n",
    "        # reshape the reward function \n",
    "        reward = info['score'] - self.score \n",
    "        self.score = info['score']\n",
    "\n",
    "        return frame_delta, reward, done, info\n",
    "    \n",
    "    def reset(self):\n",
    "        # return first frame\n",
    "        obs = self.game.reset()\n",
    "        obs = self.preprocess(obs)\n",
    "        # pre-processing ToDo\n",
    "        self.previous_frame = obs\n",
    "        # create score delta variable \n",
    "        self.score = 0\n",
    "        return obs\n",
    "    \n",
    "    def preprocess(self, observation):\n",
    "        gray = cv2.cvtColor(observation, cv2.COLOR_BGR2GRAY)\n",
    "        # resize \n",
    "        resize = cv2.resize(gray, (84,84), cv2.INTER_CUBIC)\n",
    "        resize = np.reshape(resize,(84,84,1))\n",
    "        return resize\n",
    "\n",
    "    def render(self, *args, **kwargs):\n",
    "        self.game.render()\n",
    "\n",
    "    def close(self): \n",
    "        self.game.close()"
   ]
  },
  {
   "cell_type": "markdown",
   "metadata": {},
   "source": [
    "# DO NOT RUN JUST USED FOR TESTING "
   ]
  },
  {
   "cell_type": "code",
   "execution_count": 4,
   "metadata": {},
   "outputs": [],
   "source": [
    "# this is just for running the inital environment to see if the game is loading correctly\n",
    "env = StreetFighter()"
   ]
  },
  {
   "cell_type": "code",
   "execution_count": 5,
   "metadata": {},
   "outputs": [],
   "source": [
    "env.close()"
   ]
  },
  {
   "cell_type": "code",
   "execution_count": 5,
   "metadata": {},
   "outputs": [
    {
     "name": "stderr",
     "output_type": "stream",
     "text": [
      "e:\\School\\Independant\\.conda\\lib\\site-packages\\pyglet\\image\\codecs\\wic.py:406: UserWarning: [WinError -2147417850] Cannot change thread mode after it is set\n",
      "  warnings.warn(str(err))\n"
     ]
    },
    {
     "name": "stdout",
     "output_type": "stream",
     "text": [
      "500\n",
      "500\n",
      "100\n",
      "100\n",
      "1000\n",
      "500\n",
      "500\n",
      "1000\n",
      "500\n",
      "500\n",
      "1500\n",
      "100\n",
      "100\n",
      "100\n",
      "100\n",
      "100\n",
      "100\n",
      "100\n",
      "100\n",
      "100\n",
      "100\n",
      "100\n",
      "100\n",
      "100\n",
      "100\n",
      "100\n",
      "100\n",
      "100\n",
      "100\n",
      "100\n",
      "1000\n",
      "1000\n",
      "1000\n",
      "1000\n",
      "1000\n",
      "1000\n",
      "1000\n",
      "1000\n",
      "10000\n",
      "500\n",
      "1000\n",
      "500\n",
      "500\n",
      "300\n",
      "100\n"
     ]
    },
    {
     "ename": "",
     "evalue": "",
     "output_type": "error",
     "traceback": [
      "\u001b[1;31mThe Kernel crashed while executing code in the the current cell or a previous cell. Please review the code in the cell(s) to identify a possible cause of the failure. Click <a href='https://aka.ms/vscodeJupyterKernelCrash'>here</a> for more info. View Jupyter <a href='command:jupyter.viewOutput'>log</a> for further details."
     ]
    }
   ],
   "source": [
    "# rest to starting state \n",
    "obs = env.reset()\n",
    "# set flag to false \n",
    "done = False \n",
    "# play game once \n",
    "for game in range(1): \n",
    "    # play until not dead\n",
    "    while not done: \n",
    "        if done:\n",
    "            obs = env.reset()\n",
    "        env.render()\n",
    "        obs, reward, done, info = env.step(env.action_space.sample())\n",
    "        plt.imshow(cv2.cvtColor(obs, cv2.COLOR_BGR2RGBA)) # show changes in frames \n",
    "        time.sleep(0.01)\n",
    "        if reward > 0:\n",
    "            print(reward)"
   ]
  },
  {
   "cell_type": "markdown",
   "metadata": {},
   "source": [
    "# Start Running HERE"
   ]
  },
  {
   "cell_type": "code",
   "execution_count": 4,
   "metadata": {},
   "outputs": [
    {
     "name": "stderr",
     "output_type": "stream",
     "text": [
      "e:\\School\\Independant\\.conda\\lib\\site-packages\\tqdm\\auto.py:21: TqdmWarning: IProgress not found. Please update jupyter and ipywidgets. See https://ipywidgets.readthedocs.io/en/stable/user_install.html\n",
      "  from .autonotebook import tqdm as notebook_tqdm\n"
     ]
    }
   ],
   "source": [
    "import optuna\n",
    "# eval policy for metric calculation\n",
    "from stable_baselines3 import PPO\n",
    "from stable_baselines3.common.evaluation import evaluate_policy\n",
    "# import the sb3 monitor for logging \n",
    "from stable_baselines3.common.monitor import Monitor\n",
    "from stable_baselines3.common.vec_env import DummyVecEnv, VecFrameStack\n",
    "import os "
   ]
  },
  {
   "cell_type": "code",
   "execution_count": 5,
   "metadata": {},
   "outputs": [],
   "source": [
    "# set directories for logs and optimization functions \n",
    "LOG_DIR = './logs/'\n",
    "OPT_DIR = './opt/'"
   ]
  },
  {
   "cell_type": "code",
   "execution_count": 8,
   "metadata": {},
   "outputs": [],
   "source": [
    "#Function to return test hyperparameters - define the object function \n",
    "def optimize_ppo(trial): # optimize will return this dictionary with values between the provided values\n",
    "    return{\n",
    "        'n_steps': trial.suggest_int('n_steps', 2048, 8192),\n",
    "        'gamma': trial.suggest_float('gamma', 0.8, 0.9999, log=True),\n",
    "        'learning_rate': trial.suggest_float('learning_rate', 1e-5, 1e-4, log=True),\n",
    "        'clip_range': trial.suggest_float('clip_range', 0.1, 0.4),\n",
    "        'gae_lambda': trial.suggest_float('gae_lambda', 0.8, 0.99)\n",
    "    }"
   ]
  },
  {
   "cell_type": "code",
   "execution_count": 9,
   "metadata": {},
   "outputs": [],
   "source": [
    "# run a training loop and return a mean reward \n",
    "def optimize_agent(trial):\n",
    "    try:\n",
    "        model_params = optimize_ppo(trial)\n",
    "\n",
    "        # create environment \n",
    "        env = StreetFighter()\n",
    "        env = Monitor(env, LOG_DIR)\n",
    "        env = DummyVecEnv([lambda: env])\n",
    "        env = VecFrameStack(env, 4, channels_order='last')\n",
    "\n",
    "        # create algo \n",
    "        model = PPO('CnnPolicy', env, tensorboard_log=LOG_DIR, verbose=0, **model_params)\n",
    "        # 30k is under shooting - just for speed and example - timesteps are frames in game\n",
    "        model.learn(total_timesteps=30000)\n",
    "\n",
    "        # evaluate model n_eval should be higher, is low for testing \n",
    "        mean_reward, _ = evaluate_policy(model, env, n_eval_episodes=300)\n",
    "        env.close()\n",
    "\n",
    "        # save copies of optimized models \n",
    "        SAVE_PATH = os.path.join(OPT_DIR, 'trial_{}_best_model'.format(trial.number))\n",
    "        model.save(SAVE_PATH)\n",
    "\n",
    "        return mean_reward\n",
    "    except Exception as e: \n",
    "        return -1000"
   ]
  },
  {
   "cell_type": "code",
   "execution_count": 9,
   "metadata": {},
   "outputs": [
    {
     "name": "stderr",
     "output_type": "stream",
     "text": [
      "[I 2023-10-01 16:51:19,717] A new study created in memory with name: no-name-64c78297-7762-4ac0-9c2b-3380fafb85e6\n",
      "[I 2023-10-01 16:51:20,382] Trial 1 finished with value: -1000.0 and parameters: {'n_steps': 5304, 'gamma': 0.8721358974710086, 'learning_rate': 5.1288944547369e-05, 'clip_range': 0.32179574293687196, 'gae_lambda': 0.8895567432134891}. Best is trial 1 with value: -1000.0.\n",
      "[I 2023-10-01 16:51:20,444] Trial 2 finished with value: -1000.0 and parameters: {'n_steps': 7089, 'gamma': 0.8444697160941264, 'learning_rate': 2.2133328450608565e-05, 'clip_range': 0.1986997786948363, 'gae_lambda': 0.912620980319527}. Best is trial 1 with value: -1000.0.\n",
      "e:\\School\\Independant\\.conda\\lib\\site-packages\\stable_baselines3\\ppo\\ppo.py:148: UserWarning: You have specified a mini-batch size of 64, but because the `RolloutBuffer` is of size `n_steps * n_envs = 4996`, after every 78 untruncated mini-batches, there will be a truncated mini-batch of size 4\n",
      "We recommend using a `batch_size` that is a factor of `n_steps * n_envs`.\n",
      "Info: (n_steps=4996 and n_envs=1)\n",
      "  warnings.warn(\n",
      "[I 2023-10-01 16:51:20,538] Trial 3 finished with value: -1000.0 and parameters: {'n_steps': 3971, 'gamma': 0.8866416986830854, 'learning_rate': 1.3159131842757735e-05, 'clip_range': 0.18012774837568582, 'gae_lambda': 0.9823441653620508}. Best is trial 1 with value: -1000.0.\n",
      "[I 2023-10-01 16:51:20,604] Trial 4 finished with value: -1000.0 and parameters: {'n_steps': 6553, 'gamma': 0.8750485034892537, 'learning_rate': 1.345283783689942e-05, 'clip_range': 0.2824112698665877, 'gae_lambda': 0.9010877836510307}. Best is trial 1 with value: -1000.0.\n",
      "[I 2023-10-01 16:51:20,675] Trial 6 finished with value: -1000.0 and parameters: {'n_steps': 6293, 'gamma': 0.8502853041157756, 'learning_rate': 7.512399091361961e-05, 'clip_range': 0.3015464362162109, 'gae_lambda': 0.9005167710683781}. Best is trial 1 with value: -1000.0.\n",
      "[I 2023-10-01 16:51:20,740] Trial 5 finished with value: -1000.0 and parameters: {'n_steps': 6768, 'gamma': 0.8799867397832817, 'learning_rate': 4.292772559486692e-05, 'clip_range': 0.20536076860308702, 'gae_lambda': 0.9652881960514491}. Best is trial 1 with value: -1000.0.\n",
      "[I 2023-10-01 16:51:20,812] Trial 7 finished with value: -1000.0 and parameters: {'n_steps': 5973, 'gamma': 0.8744844946104665, 'learning_rate': 7.482517724053489e-05, 'clip_range': 0.13059008577335585, 'gae_lambda': 0.8015236279517108}. Best is trial 1 with value: -1000.0.\n",
      "[I 2023-10-01 16:51:20,887] Trial 8 finished with value: -1000.0 and parameters: {'n_steps': 3769, 'gamma': 0.8849833525634999, 'learning_rate': 3.5790077326033774e-05, 'clip_range': 0.1986238181664519, 'gae_lambda': 0.8041605866245833}. Best is trial 1 with value: -1000.0.\n",
      "[I 2023-10-01 16:51:20,955] Trial 9 finished with value: -1000.0 and parameters: {'n_steps': 2672, 'gamma': 0.8532498109335851, 'learning_rate': 2.5515112517481374e-05, 'clip_range': 0.27669127607024335, 'gae_lambda': 0.9021649438402652}. Best is trial 1 with value: -1000.0.\n",
      "[I 2023-10-01 16:51:21,020] Trial 10 finished with value: -1000.0 and parameters: {'n_steps': 4944, 'gamma': 0.8202665615468555, 'learning_rate': 9.672808441820589e-05, 'clip_range': 0.22321847977170517, 'gae_lambda': 0.9374071268818245}. Best is trial 1 with value: -1000.0.\n",
      "[I 2023-10-01 16:51:21,129] Trial 11 finished with value: -1000.0 and parameters: {'n_steps': 5875, 'gamma': 0.8299262070569596, 'learning_rate': 3.5275904828314525e-05, 'clip_range': 0.13074107062706314, 'gae_lambda': 0.9170062558769458}. Best is trial 1 with value: -1000.0.\n",
      "[I 2023-10-01 16:51:21,220] Trial 12 finished with value: -1000.0 and parameters: {'n_steps': 8119, 'gamma': 0.9554180185763393, 'learning_rate': 4.993432442226921e-05, 'clip_range': 0.37316436541804265, 'gae_lambda': 0.8537418851661154}. Best is trial 1 with value: -1000.0.\n",
      "[I 2023-10-01 16:51:21,307] Trial 13 finished with value: -1000.0 and parameters: {'n_steps': 7967, 'gamma': 0.9338784253138872, 'learning_rate': 2.1182256996934277e-05, 'clip_range': 0.36778289444040174, 'gae_lambda': 0.8602024620510809}. Best is trial 1 with value: -1000.0.\n",
      "[I 2023-10-01 16:51:21,396] Trial 14 finished with value: -1000.0 and parameters: {'n_steps': 7992, 'gamma': 0.8027117997501237, 'learning_rate': 2.4289841416787405e-05, 'clip_range': 0.3408892026120113, 'gae_lambda': 0.8580258952585722}. Best is trial 1 with value: -1000.0.\n",
      "[I 2023-10-01 16:51:21,483] Trial 15 finished with value: -1000.0 and parameters: {'n_steps': 4862, 'gamma': 0.8025131691237448, 'learning_rate': 2.3347065845402578e-05, 'clip_range': 0.3274834646542153, 'gae_lambda': 0.9336383957022464}. Best is trial 1 with value: -1000.0.\n",
      "[I 2023-10-01 16:51:21,570] Trial 16 finished with value: -1000.0 and parameters: {'n_steps': 5249, 'gamma': 0.9077270546722459, 'learning_rate': 1.853934984049676e-05, 'clip_range': 0.24507068804445625, 'gae_lambda': 0.931572858055671}. Best is trial 1 with value: -1000.0.\n",
      "[I 2023-10-01 16:51:21,665] Trial 17 finished with value: -1000.0 and parameters: {'n_steps': 7256, 'gamma': 0.9956731162819575, 'learning_rate': 5.1642972849885914e-05, 'clip_range': 0.24999474747741846, 'gae_lambda': 0.8840170230665588}. Best is trial 1 with value: -1000.0.\n",
      "[I 2023-10-01 16:51:21,754] Trial 18 finished with value: -1000.0 and parameters: {'n_steps': 2054, 'gamma': 0.9786981684120462, 'learning_rate': 1.0876171023421601e-05, 'clip_range': 0.25531554659565814, 'gae_lambda': 0.8752157297314785}. Best is trial 1 with value: -1000.0.\n",
      "[I 2023-10-01 16:51:21,840] Trial 19 finished with value: -1000.0 and parameters: {'n_steps': 4026, 'gamma': 0.8411694613461992, 'learning_rate': 1.0872642089676803e-05, 'clip_range': 0.16713190829457455, 'gae_lambda': 0.9538717321587666}. Best is trial 1 with value: -1000.0.\n",
      "[I 2023-10-01 16:51:21,928] Trial 20 finished with value: -1000.0 and parameters: {'n_steps': 7266, 'gamma': 0.9111844227522347, 'learning_rate': 3.0993179203293026e-05, 'clip_range': 0.39060202027876517, 'gae_lambda': 0.9594033082237909}. Best is trial 1 with value: -1000.0.\n",
      "[I 2023-10-01 16:51:22,014] Trial 21 finished with value: -1000.0 and parameters: {'n_steps': 7274, 'gamma': 0.8602074191798443, 'learning_rate': 3.06998240805922e-05, 'clip_range': 0.31366952546407534, 'gae_lambda': 0.9171011193167309}. Best is trial 1 with value: -1000.0.\n",
      "[I 2023-10-01 16:51:22,100] Trial 22 finished with value: -1000.0 and parameters: {'n_steps': 5460, 'gamma': 0.8664695951137207, 'learning_rate': 1.717993252828134e-05, 'clip_range': 0.3119513995019104, 'gae_lambda': 0.915695092564585}. Best is trial 1 with value: -1000.0.\n",
      "[I 2023-10-01 16:51:22,186] Trial 23 finished with value: -1000.0 and parameters: {'n_steps': 3818, 'gamma': 0.8982621261802434, 'learning_rate': 1.5689605858869027e-05, 'clip_range': 0.16982086440999072, 'gae_lambda': 0.9733746966037505}. Best is trial 1 with value: -1000.0.\n",
      "[I 2023-10-01 16:51:22,275] Trial 24 finished with value: -1000.0 and parameters: {'n_steps': 4255, 'gamma': 0.9060521266053826, 'learning_rate': 1.4855093192111423e-05, 'clip_range': 0.16432943199729994, 'gae_lambda': 0.9817815410517815}. Best is trial 1 with value: -1000.0.\n",
      "[I 2023-10-01 16:51:22,363] Trial 25 finished with value: -1000.0 and parameters: {'n_steps': 4382, 'gamma': 0.8944875951766857, 'learning_rate': 1.2965424160147817e-05, 'clip_range': 0.1017730654279351, 'gae_lambda': 0.975638448651159}. Best is trial 1 with value: -1000.0.\n",
      "[I 2023-10-01 16:51:22,449] Trial 26 finished with value: -1000.0 and parameters: {'n_steps': 3253, 'gamma': 0.8425419810116623, 'learning_rate': 1.3164380727571856e-05, 'clip_range': 0.10067630536522078, 'gae_lambda': 0.9862263139788074}. Best is trial 1 with value: -1000.0.\n",
      "[I 2023-10-01 16:51:22,537] Trial 27 finished with value: -1000.0 and parameters: {'n_steps': 3000, 'gamma': 0.8396532655293789, 'learning_rate': 1.7122842971373176e-05, 'clip_range': 0.22039388040314029, 'gae_lambda': 0.9876894725381101}. Best is trial 1 with value: -1000.0.\n",
      "[I 2023-10-01 16:51:22,639] Trial 28 finished with value: -1000.0 and parameters: {'n_steps': 3094, 'gamma': 0.8623898880391003, 'learning_rate': 1.9130560689105362e-05, 'clip_range': 0.22373084303794513, 'gae_lambda': 0.948940157480388}. Best is trial 1 with value: -1000.0.\n",
      "[I 2023-10-01 16:51:22,711] Trial 29 finished with value: -1000.0 and parameters: {'n_steps': 5582, 'gamma': 0.8627848177475266, 'learning_rate': 2.12905157773693e-05, 'clip_range': 0.18839039140376854, 'gae_lambda': 0.9407075043451689}. Best is trial 1 with value: -1000.0.\n"
     ]
    }
   ],
   "source": [
    "# creates a study that wants to maximize the return \n",
    "study = optuna.create_study(direction='maximize')\n",
    "# n_trails is 1 for example, 100 is better for actual training \n",
    "study.optimize(optimize_agent, n_trials=30, n_jobs=1)"
   ]
  },
  {
   "cell_type": "code",
   "execution_count": null,
   "metadata": {},
   "outputs": [],
   "source": [
    "# show the best parameters returned from the study\n",
    "study.best_params"
   ]
  },
  {
   "cell_type": "markdown",
   "metadata": {},
   "source": [
    "# Load finished hyperparameters "
   ]
  },
  {
   "cell_type": "code",
   "execution_count": 10,
   "metadata": {},
   "outputs": [],
   "source": [
    "# this will load a model from the saved models \n",
    "study = PPO.load(os.path.join(OPT_DIR, 'trial_7_best_model.zip'))"
   ]
  },
  {
   "cell_type": "markdown",
   "metadata": {},
   "source": [
    "# Build Model"
   ]
  },
  {
   "cell_type": "code",
   "execution_count": 11,
   "metadata": {},
   "outputs": [],
   "source": [
    "from stable_baselines3.common.callbacks import BaseCallback"
   ]
  },
  {
   "cell_type": "code",
   "execution_count": 12,
   "metadata": {},
   "outputs": [],
   "source": [
    "class TrainAndLoggingCallback(BaseCallback): \n",
    "\n",
    "    def __init__(self, check_freq, save_path, verbose=1):\n",
    "        super(TrainAndLoggingCallback, self).__init__(verbose)\n",
    "        self.check_freq = check_freq \n",
    "        self.save_path = save_path \n",
    "\n",
    "    def _init_callback(self):\n",
    "        if self.save_path is not None: \n",
    "            os.makedirs(self.save_path, exist_ok=True)\n",
    "\n",
    "    def _on_step(self):\n",
    "        if self.n_calls % self.check_freq == 0: \n",
    "            model_path = os.path.join(self.save_path, 'best_model_{}'.format(self.n_calls))\n",
    "            self.model.save(model_path)\n",
    "        return True"
   ]
  },
  {
   "cell_type": "code",
   "execution_count": 13,
   "metadata": {},
   "outputs": [],
   "source": [
    "CHECKPOINT_DIR = './train/'"
   ]
  },
  {
   "cell_type": "code",
   "execution_count": 14,
   "metadata": {},
   "outputs": [],
   "source": [
    "callback = TrainAndLoggingCallback(check_freq=10000, save_path=CHECKPOINT_DIR)"
   ]
  },
  {
   "cell_type": "markdown",
   "metadata": {},
   "source": [
    "# Train Model"
   ]
  },
  {
   "cell_type": "code",
   "execution_count": 6,
   "metadata": {},
   "outputs": [],
   "source": [
    "# Create environment \n",
    "env = StreetFighter()\n",
    "env = Monitor(env, LOG_DIR)\n",
    "env = DummyVecEnv([lambda: env])\n",
    "env = VecFrameStack(env, 4, channels_order='last')"
   ]
  },
  {
   "cell_type": "code",
   "execution_count": 18,
   "metadata": {},
   "outputs": [],
   "source": [
    "model_params = {\n",
    "    'n_steps': 7516,\n",
    "    'gamma': 0.9085173842732223,\n",
    "    'learning_rate': 5.02771591344835e-05,\n",
    "    'clip_range': 0.39105070719865653\n",
    "}\n",
    "# make sure to overide the params step values in the params to the nearest num divisible by 64"
   ]
  },
  {
   "cell_type": "code",
   "execution_count": 15,
   "metadata": {},
   "outputs": [],
   "source": [
    "model_params['n_steps'] = 7488"
   ]
  },
  {
   "cell_type": "code",
   "execution_count": 16,
   "metadata": {},
   "outputs": [],
   "source": [
    "model = PPO('CnnPolicy', env, tensorboard_log=LOG_DIR, verbose=0, **model_params)"
   ]
  },
  {
   "cell_type": "code",
   "execution_count": 17,
   "metadata": {},
   "outputs": [
    {
     "data": {
      "text/plain": [
       "<stable_baselines3.ppo.ppo.PPO at 0x20921265bb0>"
      ]
     },
     "execution_count": 17,
     "metadata": {},
     "output_type": "execute_result"
    }
   ],
   "source": [
    "model.load(os.path.join(OPT_DIR, 'trial_7_best_model.zip'))\n",
    "model.learn(total_timesteps=30000, callback=callback)\n",
    "# again 30k is pretty big undershoot \n",
    "# if poor perfomance maybe put model_params['learning_rate'] = 5e-7"
   ]
  },
  {
   "cell_type": "markdown",
   "metadata": {},
   "source": [
    "# Evaluate Model"
   ]
  },
  {
   "cell_type": "code",
   "execution_count": 7,
   "metadata": {},
   "outputs": [
    {
     "name": "stderr",
     "output_type": "stream",
     "text": [
      "e:\\School\\Independant\\.conda\\lib\\site-packages\\pyglet\\image\\codecs\\wic.py:406: UserWarning: [WinError -2147417850] Cannot change thread mode after it is set\n",
      "  warnings.warn(str(err))\n"
     ]
    },
    {
     "ename": "KeyboardInterrupt",
     "evalue": "",
     "output_type": "error",
     "traceback": [
      "\u001b[1;31m---------------------------------------------------------------------------\u001b[0m",
      "\u001b[1;31mKeyboardInterrupt\u001b[0m                         Traceback (most recent call last)",
      "\u001b[1;32me:\\School\\Independant\\Independent.ipynb Cell 30\u001b[0m line \u001b[0;36m2\n\u001b[0;32m      <a href='vscode-notebook-cell:/e%3A/School/Independant/Independent.ipynb#X41sZmlsZQ%3D%3D?line=0'>1</a>\u001b[0m model \u001b[39m=\u001b[39m PPO\u001b[39m.\u001b[39mload(\u001b[39m'\u001b[39m\u001b[39m./train/best_model_30000\u001b[39m\u001b[39m'\u001b[39m)\n\u001b[1;32m----> <a href='vscode-notebook-cell:/e%3A/School/Independant/Independent.ipynb#X41sZmlsZQ%3D%3D?line=1'>2</a>\u001b[0m mean_reward, _ \u001b[39m=\u001b[39m evaluate_policy(model, env, render\u001b[39m=\u001b[39;49m\u001b[39mTrue\u001b[39;49;00m, n_eval_episodes\u001b[39m=\u001b[39;49m\u001b[39m5\u001b[39;49m)\n",
      "File \u001b[1;32me:\\School\\Independant\\.conda\\lib\\site-packages\\stable_baselines3\\common\\evaluation.py:89\u001b[0m, in \u001b[0;36mevaluate_policy\u001b[1;34m(model, env, n_eval_episodes, deterministic, render, callback, reward_threshold, return_episode_rewards, warn)\u001b[0m\n\u001b[0;32m     87\u001b[0m \u001b[39mwhile\u001b[39;00m (episode_counts \u001b[39m<\u001b[39m episode_count_targets)\u001b[39m.\u001b[39many():\n\u001b[0;32m     88\u001b[0m     actions, states \u001b[39m=\u001b[39m model\u001b[39m.\u001b[39mpredict(observations, state\u001b[39m=\u001b[39mstates, episode_start\u001b[39m=\u001b[39mepisode_starts, deterministic\u001b[39m=\u001b[39mdeterministic)\n\u001b[1;32m---> 89\u001b[0m     observations, rewards, dones, infos \u001b[39m=\u001b[39m env\u001b[39m.\u001b[39;49mstep(actions)\n\u001b[0;32m     90\u001b[0m     current_rewards \u001b[39m+\u001b[39m\u001b[39m=\u001b[39m rewards\n\u001b[0;32m     91\u001b[0m     current_lengths \u001b[39m+\u001b[39m\u001b[39m=\u001b[39m \u001b[39m1\u001b[39m\n",
      "File \u001b[1;32me:\\School\\Independant\\.conda\\lib\\site-packages\\stable_baselines3\\common\\vec_env\\base_vec_env.py:163\u001b[0m, in \u001b[0;36mVecEnv.step\u001b[1;34m(self, actions)\u001b[0m\n\u001b[0;32m    156\u001b[0m \u001b[39m\u001b[39m\u001b[39m\"\"\"\u001b[39;00m\n\u001b[0;32m    157\u001b[0m \u001b[39mStep the environments with the given action\u001b[39;00m\n\u001b[0;32m    158\u001b[0m \n\u001b[0;32m    159\u001b[0m \u001b[39m:param actions: the action\u001b[39;00m\n\u001b[0;32m    160\u001b[0m \u001b[39m:return: observation, reward, done, information\u001b[39;00m\n\u001b[0;32m    161\u001b[0m \u001b[39m\"\"\"\u001b[39;00m\n\u001b[0;32m    162\u001b[0m \u001b[39mself\u001b[39m\u001b[39m.\u001b[39mstep_async(actions)\n\u001b[1;32m--> 163\u001b[0m \u001b[39mreturn\u001b[39;00m \u001b[39mself\u001b[39;49m\u001b[39m.\u001b[39;49mstep_wait()\n",
      "File \u001b[1;32me:\\School\\Independant\\.conda\\lib\\site-packages\\stable_baselines3\\common\\vec_env\\vec_frame_stack.py:33\u001b[0m, in \u001b[0;36mVecFrameStack.step_wait\u001b[1;34m(self)\u001b[0m\n\u001b[0;32m     30\u001b[0m \u001b[39mdef\u001b[39;00m \u001b[39mstep_wait\u001b[39m(\n\u001b[0;32m     31\u001b[0m     \u001b[39mself\u001b[39m,\n\u001b[0;32m     32\u001b[0m ) \u001b[39m-\u001b[39m\u001b[39m>\u001b[39m Tuple[Union[np\u001b[39m.\u001b[39mndarray, Dict[\u001b[39mstr\u001b[39m, np\u001b[39m.\u001b[39mndarray]], np\u001b[39m.\u001b[39mndarray, np\u001b[39m.\u001b[39mndarray, List[Dict[\u001b[39mstr\u001b[39m, Any]],]:\n\u001b[1;32m---> 33\u001b[0m     observations, rewards, dones, infos \u001b[39m=\u001b[39m \u001b[39mself\u001b[39;49m\u001b[39m.\u001b[39;49mvenv\u001b[39m.\u001b[39;49mstep_wait()\n\u001b[0;32m     34\u001b[0m     observations, infos \u001b[39m=\u001b[39m \u001b[39mself\u001b[39m\u001b[39m.\u001b[39mstacked_obs\u001b[39m.\u001b[39mupdate(observations, dones, infos)\n\u001b[0;32m     35\u001b[0m     \u001b[39mreturn\u001b[39;00m observations, rewards, dones, infos\n",
      "File \u001b[1;32me:\\School\\Independant\\.conda\\lib\\site-packages\\stable_baselines3\\common\\vec_env\\dummy_vec_env.py:54\u001b[0m, in \u001b[0;36mDummyVecEnv.step_wait\u001b[1;34m(self)\u001b[0m\n\u001b[0;32m     52\u001b[0m \u001b[39mdef\u001b[39;00m \u001b[39mstep_wait\u001b[39m(\u001b[39mself\u001b[39m) \u001b[39m-\u001b[39m\u001b[39m>\u001b[39m VecEnvStepReturn:\n\u001b[0;32m     53\u001b[0m     \u001b[39mfor\u001b[39;00m env_idx \u001b[39min\u001b[39;00m \u001b[39mrange\u001b[39m(\u001b[39mself\u001b[39m\u001b[39m.\u001b[39mnum_envs):\n\u001b[1;32m---> 54\u001b[0m         obs, \u001b[39mself\u001b[39m\u001b[39m.\u001b[39mbuf_rews[env_idx], \u001b[39mself\u001b[39m\u001b[39m.\u001b[39mbuf_dones[env_idx], \u001b[39mself\u001b[39m\u001b[39m.\u001b[39mbuf_infos[env_idx] \u001b[39m=\u001b[39m \u001b[39mself\u001b[39;49m\u001b[39m.\u001b[39;49menvs[env_idx]\u001b[39m.\u001b[39;49mstep(\n\u001b[0;32m     55\u001b[0m             \u001b[39mself\u001b[39;49m\u001b[39m.\u001b[39;49mactions[env_idx]\n\u001b[0;32m     56\u001b[0m         )\n\u001b[0;32m     57\u001b[0m         \u001b[39mif\u001b[39;00m \u001b[39mself\u001b[39m\u001b[39m.\u001b[39mbuf_dones[env_idx]:\n\u001b[0;32m     58\u001b[0m             \u001b[39m# save final observation where user can get it, then reset\u001b[39;00m\n\u001b[0;32m     59\u001b[0m             \u001b[39mself\u001b[39m\u001b[39m.\u001b[39mbuf_infos[env_idx][\u001b[39m\"\u001b[39m\u001b[39mterminal_observation\u001b[39m\u001b[39m\"\u001b[39m] \u001b[39m=\u001b[39m obs\n",
      "File \u001b[1;32me:\\School\\Independant\\.conda\\lib\\site-packages\\stable_baselines3\\common\\monitor.py:95\u001b[0m, in \u001b[0;36mMonitor.step\u001b[1;34m(self, action)\u001b[0m\n\u001b[0;32m     93\u001b[0m \u001b[39mif\u001b[39;00m \u001b[39mself\u001b[39m\u001b[39m.\u001b[39mneeds_reset:\n\u001b[0;32m     94\u001b[0m     \u001b[39mraise\u001b[39;00m \u001b[39mRuntimeError\u001b[39;00m(\u001b[39m\"\u001b[39m\u001b[39mTried to step environment that needs reset\u001b[39m\u001b[39m\"\u001b[39m)\n\u001b[1;32m---> 95\u001b[0m observation, reward, done, info \u001b[39m=\u001b[39m \u001b[39mself\u001b[39;49m\u001b[39m.\u001b[39;49menv\u001b[39m.\u001b[39;49mstep(action)\n\u001b[0;32m     96\u001b[0m \u001b[39mself\u001b[39m\u001b[39m.\u001b[39mrewards\u001b[39m.\u001b[39mappend(reward)\n\u001b[0;32m     97\u001b[0m \u001b[39mif\u001b[39;00m done:\n",
      "\u001b[1;32me:\\School\\Independant\\Independent.ipynb Cell 30\u001b[0m line \u001b[0;36m1\n\u001b[0;32m     <a href='vscode-notebook-cell:/e%3A/School/Independant/Independent.ipynb#X41sZmlsZQ%3D%3D?line=10'>11</a>\u001b[0m \u001b[39mdef\u001b[39;00m \u001b[39mstep\u001b[39m(\u001b[39mself\u001b[39m, action):\n\u001b[0;32m     <a href='vscode-notebook-cell:/e%3A/School/Independant/Independent.ipynb#X41sZmlsZQ%3D%3D?line=11'>12</a>\u001b[0m     obs, reward, done, info \u001b[39m=\u001b[39m \u001b[39mself\u001b[39m\u001b[39m.\u001b[39mgame\u001b[39m.\u001b[39mstep(action)\n\u001b[1;32m---> <a href='vscode-notebook-cell:/e%3A/School/Independant/Independent.ipynb#X41sZmlsZQ%3D%3D?line=12'>13</a>\u001b[0m     obs \u001b[39m=\u001b[39m \u001b[39mself\u001b[39;49m\u001b[39m.\u001b[39;49mpreprocess(obs)\n\u001b[0;32m     <a href='vscode-notebook-cell:/e%3A/School/Independant/Independent.ipynb#X41sZmlsZQ%3D%3D?line=13'>14</a>\u001b[0m     \u001b[39m# frame delta \u001b[39;00m\n\u001b[0;32m     <a href='vscode-notebook-cell:/e%3A/School/Independant/Independent.ipynb#X41sZmlsZQ%3D%3D?line=14'>15</a>\u001b[0m     frame_delta \u001b[39m=\u001b[39m obs \u001b[39m-\u001b[39m \u001b[39mself\u001b[39m\u001b[39m.\u001b[39mprevious_frame\n",
      "\u001b[1;32me:\\School\\Independant\\Independent.ipynb Cell 30\u001b[0m line \u001b[0;36m3\n\u001b[0;32m     <a href='vscode-notebook-cell:/e%3A/School/Independant/Independent.ipynb#X41sZmlsZQ%3D%3D?line=32'>33</a>\u001b[0m \u001b[39mdef\u001b[39;00m \u001b[39mpreprocess\u001b[39m(\u001b[39mself\u001b[39m, observation):\n\u001b[1;32m---> <a href='vscode-notebook-cell:/e%3A/School/Independant/Independent.ipynb#X41sZmlsZQ%3D%3D?line=33'>34</a>\u001b[0m     gray \u001b[39m=\u001b[39m cv2\u001b[39m.\u001b[39;49mcvtColor(observation, cv2\u001b[39m.\u001b[39;49mCOLOR_BGR2GRAY)\n\u001b[0;32m     <a href='vscode-notebook-cell:/e%3A/School/Independant/Independent.ipynb#X41sZmlsZQ%3D%3D?line=34'>35</a>\u001b[0m     \u001b[39m# resize \u001b[39;00m\n\u001b[0;32m     <a href='vscode-notebook-cell:/e%3A/School/Independant/Independent.ipynb#X41sZmlsZQ%3D%3D?line=35'>36</a>\u001b[0m     resize \u001b[39m=\u001b[39m cv2\u001b[39m.\u001b[39mresize(gray, (\u001b[39m84\u001b[39m,\u001b[39m84\u001b[39m), cv2\u001b[39m.\u001b[39mINTER_CUBIC)\n",
      "\u001b[1;31mKeyboardInterrupt\u001b[0m: "
     ]
    },
    {
     "ename": "",
     "evalue": "",
     "output_type": "error",
     "traceback": [
      "\u001b[1;31mThe Kernel crashed while executing code in the the current cell or a previous cell. Please review the code in the cell(s) to identify a possible cause of the failure. Click <a href='https://aka.ms/vscodeJupyterKernelCrash'>here</a> for more info. View Jupyter <a href='command:jupyter.viewOutput'>log</a> for further details."
     ]
    }
   ],
   "source": [
    "model = PPO.load('./train/best_model_30000')\n",
    "mean_reward, _ = evaluate_policy(model, env, render=True, n_eval_episodes=5)"
   ]
  },
  {
   "cell_type": "markdown",
   "metadata": {},
   "source": [
    "# Test Model"
   ]
  },
  {
   "cell_type": "code",
   "execution_count": null,
   "metadata": {},
   "outputs": [],
   "source": [
    "obs = env.reset()\n",
    "obs.shape"
   ]
  },
  {
   "cell_type": "code",
   "execution_count": null,
   "metadata": {},
   "outputs": [],
   "source": [
    "# rest to starting state \n",
    "obs = env.reset()\n",
    "# set flag to false \n",
    "done = False \n",
    "# play game once \n",
    "for game in range(1): \n",
    "    # play until not dead\n",
    "    while not done: \n",
    "        if done:\n",
    "            obs = env.reset()\n",
    "        env.render()\n",
    "        action = model.predict(obs)[0] # get an action prediction from model\n",
    "        obs, reward, done, info = env.step(action) # pass into the game\n",
    "        time.sleep(0.01)\n",
    "        if reward > 0:\n",
    "            print(reward)"
   ]
  }
 ],
 "metadata": {
  "kernelspec": {
   "display_name": "Python 3",
   "language": "python",
   "name": "python3"
  },
  "language_info": {
   "codemirror_mode": {
    "name": "ipython",
    "version": 3
   },
   "file_extension": ".py",
   "mimetype": "text/x-python",
   "name": "python",
   "nbconvert_exporter": "python",
   "pygments_lexer": "ipython3",
   "version": "3.8.17"
  },
  "orig_nbformat": 4
 },
 "nbformat": 4,
 "nbformat_minor": 2
}
